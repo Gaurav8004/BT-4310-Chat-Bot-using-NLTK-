{
  "nbformat": 4,
  "nbformat_minor": 0,
  "metadata": {
    "colab": {
      "provenance": []
    },
    "kernelspec": {
      "name": "python3",
      "display_name": "Python 3"
    },
    "language_info": {
      "name": "python"
    }
  },
  "cells": [
    {
      "cell_type": "code",
      "execution_count": 1,
      "metadata": {
        "id": "dZNK3cqhIgwx"
      },
      "outputs": [],
      "source": [
        "import numpy as np\n",
        "import nltk\n",
        "import string\n",
        "import random\n"
      ]
    },
    {
      "cell_type": "markdown",
      "source": [
        "**Reading the Corpus of Text**"
      ],
      "metadata": {
        "id": "VpnmkhskJc04"
      }
    },
    {
      "cell_type": "code",
      "source": [
        "f=open('/content/chat.txt','r',errors = 'ignore')\n",
        "raw_doc =f.read()\n",
        "\n"
      ],
      "metadata": {
        "id": "tyP7C9A7JY9Z"
      },
      "execution_count": 6,
      "outputs": []
    },
    {
      "cell_type": "code",
      "source": [
        "raw_doc\n"
      ],
      "metadata": {
        "colab": {
          "base_uri": "https://localhost:8080/",
          "height": 140
        },
        "id": "-5GYQPEAKEXJ",
        "outputId": "e17b1084-0b53-440f-fa2c-6d54c34fc37f"
      },
      "execution_count": 7,
      "outputs": [
        {
          "output_type": "execute_result",
          "data": {
            "text/plain": [
              "'A chatbot (originally chatterbot[1]) is a software application or web interface that aims to mimic human conversation through text or voice interactions.[2][3][4] Modern chatbots are typically online and use artificial intelligence (AI) systems that are capable of maintaining a conversation with a user in natural language and simulating the way a human would behave as a conversational partner. Such technologies often utilize aspects of deep learning and natural language processing, but more simplistic chatbots have been around for decades prior.\\n\\nRecently, this field has gained widespread attention due to the popularity of OpenAI\\'s ChatGPT (using GPT-3 or GPT-4),[5] released in 2022, followed by alternatives such as Microsoft\\'s Bing Chat (which uses OpenAI\\'s GPT-4) and Google\\'s Bard.[6] Such examples reflect the recent practice of such products being built based upon broad foundational large language models that get fine-tuned so as to target specific tasks or applications (i.e. simulating human conversation, in the case of chatbots). Chatbots can also be designed or customized to further target even more specific situations and/or particular subject-matter domains.[7]\\n\\nA major area where chatbots have long been used is in customer service and support, such as with various sorts of virtual assistants.[8] Companies spanning various industries have begun using the latest generative artificial intelligence technologies to power more advanced developments in such areas.[7]\\n\\nBackground\\nIn 1950, Alan Turing\\'s famous article \"Computing Machinery and Intelligence\" was published,[9] which proposed what is now called the Turing test as a criterion of intelligence. This criterion depends on the ability of a computer program to impersonate a human in a real-time written conversation with a human judge to the extent that the judge is unable to distinguish reliably—on the basis of the conversational content alone—between the program and a real human. The notoriety of Turing\\'s proposed test stimulated great interest in Joseph Weizenbaum\\'s program ELIZA, published in 1966, which seemed to be able to fool users into believing that they were conversing with a real human. However Weizenbaum himself did not claim that ELIZA was genuinely intelligent, and the introduction to his paper presented it more as a debunking exercise:\\n\\nIn artificial intelligence, machines are made to behave in wondrous ways, often sufficient to dazzle even the most experienced observer. But once a particular program is unmasked, once its inner workings are explained, its magic crumbles away; it stands revealed as a mere collection of procedures. The observer says to himself \"I could have written that\". With that thought, he moves the program in question from the shelf marked \"intelligent\", to that reserved for curios. The object of this paper is to cause just such a re-evaluation of the program about to be \"explained\". Few programs ever needed it more.[10]\\n\\nELIZA\\'s key method of operation (copied by chatbot designers ever since) involves the recognition of clue words or phrases in the input, and the output of the corresponding pre-prepared or pre-programmed responses that can move the conversation forward in an apparently meaningful way (e.g. by responding to any input that contains the word \\'MOTHER\\' with \\'TELL ME MORE ABOUT YOUR FAMILY\\').[10] Thus an illusion of understanding is generated, even though the processing involved has been merely superficial. ELIZA showed that such an illusion is surprisingly easy to generate because human judges are so ready to give the benefit of the doubt when conversational responses are capable of being interpreted as \"intelligent\".\\n\\nInterface designers have come to appreciate that humans\\' readiness to interpret computer output as genuinely conversational—even when it is actually based on rather simple pattern-matching—can be exploited for useful purposes. Most people prefer to engage with programs that are human-like, and this gives chatbot-style techniques a potentially useful role in interactive systems that need to elicit information from users, as long as that information is relatively straightforward and falls into predictable categories. Thus, for example, online help systems can usefully employ chatbot techniques to identify the area of help that users require, potentially providing a \"friendlier\" interface than a more formal search or menu system. This sort of usage holds the prospect of moving chatbot technology from Weizenbaum\\'s \"shelf ... reserved for curios\" to that marked \"genuinely useful computational methods\".\\n\\nDevelopment\\nAmong the most notable early chatbots are ELIZA (1966) and PARRY (1972).[11][12][13][14] More recent notable programs include A.L.I.C.E., Jabberwacky and D.U.D.E (Agence Nationale de la Recherche and CNRS 2006). While ELIZA and PARRY were used exclusively to simulate typed conversation, many chatbots now include other functional features, such as games and web searching abilities. In 1984, a book called The Policeman\\'s Beard is Half Constructed was published, allegedly written by the chatbot Racter (though the program as released would not have been capable of doing so).[15]\\n\\nFrom 1978[16] to some time after 1983,[17] the CYRUS project led by Janet Kolodner constructed a chatbot simulating Cyrus Vance (57th United States Secretary of State). It used case-based reasoning, and updated its database daily by parsing wire news from United Press International. The program was unable to process the news items subsequent to the surprise resignation of Cyrus Vance in April 1980, and the team constructed another chatbot simulating his successor, Edmund Muskie.[18][17]\\n\\nOne pertinent field of AI research is natural-language processing. Usually, weak AI fields employ specialized software or programming languages created specifically for the narrow function required. For example, A.L.I.C.E. uses a markup language called AIML,[3] which is specific to its function as a conversational agent, and has since been adopted by various other developers of, so-called, Alicebots. Nevertheless, A.L.I.C.E. is still purely based on pattern matching techniques without any reasoning capabilities, the same technique ELIZA was using back in 1966. This is not strong AI, which would require sapience and logical reasoning abilities.\\n\\nJabberwacky learns new responses and context based on real-time user interactions, rather than being driven from a static database. Some more recent chatbots also combine real-time learning with evolutionary algorithms that optimize their ability to communicate based on each conversation held. Still, there is currently no general purpose conversational artificial intelligence, and some software developers focus on the practical aspect, information retrieval.\\n\\nChatbot competitions focus on the Turing test or more specific goals. Two such annual contests are the Loebner Prize and The Chatterbox Challenge (the latter has been offline since 2015, however, materials can still be found from web archives).[19]\\n\\nChatbots may use neural networks as a language model. For example, generative pre-trained transformers (GPT), which use the transformer architecture, have become common to build sophisticated chatbots. The \"pre-training\" in its name refers to the initial training process on a large text corpus, which provides a solid foundation for the model to perform well on downstream tasks with limited amounts of task-specific data. An example of a GPT chatbot is ChatGPT.[20] Despite criticism of its accuracy, ChatGPT has gained attention for its detailed responses and historical knowledge. Another example is BioGPT, developed by Microsoft, which focuses on answering biomedical questions.[21][22]\\n\\nDBpedia created a chatbot during the GSoC of 2017.[23][24][25] It can communicate through Facebook Messenger.\\n\\nApplication\\nSee also: Virtual assistant\\nMessaging apps\\nMany companies\\' chatbots run on messaging apps or simply via SMS. They are used for B2C customer service, sales and marketing.[26]\\n\\nIn 2016, Facebook Messenger allowed developers to place chatbots on their platform. There were 30,000 bots created for Messenger in the first six months, rising to 100,000 by September 2017.[27]\\n\\nSince September 2017, this has also been as part of a pilot program on WhatsApp. Airlines KLM and Aeroméxico both announced their participation in the testing;[28][29][30][31] both airlines had previously launched customer services on the Facebook Messenger platform.\\n\\nThe bots usually appear as one of the user\\'s contacts, but can sometimes act as participants in a group chat.\\n\\nMany banks, insurers, media companies, e-commerce companies, airlines, hotel chains, retailers, health care providers, government entities and restaurant chains have used chatbots to answer simple questions, increase customer engagement,[32] for promotion, and to offer additional ways to order from them.[33]\\n\\nA 2017 study showed 4% of companies used chatbots.[34] According to a 2016 study, 80% of businesses said they intended to have one by 2020.[35]\\n\\nAs part of company apps and websites\\nPrevious generations of chatbots were present on company websites, e.g. Ask Jenn from Alaska Airlines which debuted in 2008[36] or Expedia\\'s virtual customer service agent which launched in 2011.[36][37] The newer generation of chatbots includes IBM Watson-powered \"Rocky\", introduced in February 2017 by the New York City-based e-commerce company Rare Carat to provide information to prospective diamond buyers.[38][39]\\n\\nChatbot sequences\\nUsed by marketers to script sequences of messages, very similar to an autoresponder sequence. Such sequences can be triggered by user opt-in or the use of keywords within user interactions. After a trigger occurs a sequence of messages is delivered until the next anticipated user response. Each user response is used in the decision tree to help the chatbot navigate the response sequences to deliver the correct response message.\\n\\nCompany internal platforms\\nOther companies explore ways they can use chatbots internally, for example for Customer Support, Human Resources, or even in Internet-of-Things (IoT) projects. Overstock.com, for one, has reportedly launched a chatbot named Mila to automate certain simple yet time-consuming processes when requesting sick leave.[40] Other large companies such as Lloyds Banking Group, Royal Bank of Scotland, Renault and Citroën are now using automated online assistants instead of call centres with humans to provide a first point of contact. A SaaS chatbot business ecosystem has been steadily growing since the F8 Conference when Facebook\\'s Mark Zuckerberg unveiled that Messenger would allow chatbots into the app.[41] In large companies, like in hospitals and aviation organizations, IT architects are designing reference architectures for Intelligent Chatbots that are used to unlock and share knowledge and experience in the organization more efficiently, and reduce the errors in answers from expert service desks significantly.[42] These Intelligent Chatbots make use of all kinds of artificial intelligence like image moderation and natural-language understanding (NLU), natural-language generation (NLG), machine learning and deep learning.\\n\\nCustomer service\\nMany high-tech banking organizations are looking to integrate automated AI-based solutions such as chatbots into their customer service in order to provide faster and cheaper assistance to their clients who are becoming increasingly comfortable with technology. In particular, chatbots can efficiently conduct a dialogue, usually replacing other communication tools such as email, phone, or SMS. In banking, their major application is related to quick customer service answering common requests, as well as transactional support.\\n\\nSeveral studies report significant reduction in the cost of customer services, expected to lead to billions of dollars of economic savings in the next ten years.[43] In 2019, Gartner predicted that by 2021, 15% of all customer service interactions globally will be handled completely by AI.[44] A study by Juniper Research in 2019 estimates retail sales resulting from chatbot-based interactions will reach $112 billion by 2023.[45]\\n\\nSince 2016, when Facebook allowed businesses to deliver automated customer support, e-commerce guidance, content, and interactive experiences through chatbots, a large variety of chatbots were developed for the Facebook Messenger platform.[46]\\n\\nIn 2016, Russia-based Tochka Bank launched the world\\'s first Facebook bot for a range of financial services, including a possibility of making payments.[47]\\n\\nIn July 2016, Barclays Africa also launched a Facebook chatbot, making it the first bank to do so in Africa.[48]\\n\\nThe France\\'s third-largest bank by total assets[49] Société Générale launched their chatbot called SoBot in March 2018. While 80% of users of the SoBot expressed their satisfaction after having tested it, Société Générale deputy director Bertrand Cozzarolo stated that it will never replace the expertise provided by a human advisor. [50]\\n\\nThe advantages of using chatbots for customer interactions in banking include cost reduction, financial advice, and 24/7 support.[51][52]\\n\\nHealthcare\\nSee also: Artificial intelligence in healthcare\\nChatbots are also appearing in the healthcare industry.[53][54] A study suggested that physicians in the United States believed that chatbots would be most beneficial for scheduling doctor appointments, locating health clinics, or providing medication information.[55]\\n\\nWhatsapp has teamed up with the World Health Organisation (WHO) to make a chatbot service that answers users\\' questions on COVID-19.[56]\\n\\nIn 2020, The Indian Government launched a chatbot called MyGov Corona Helpdesk,[57] that worked through Whatsapp and helped people access information about the Coronavirus (COVID-19) pandemic.[58][59]\\n\\nCertain patient groups are still reluctant to use chatbots. A mixed-methods study showed that people are still hesitant to use chatbots for their healthcare due to poor understanding of the technological complexity, the lack of empathy, and concerns about cyber-security.[60] The analysis showed that while 6% had heard of a health chatbot and 3% had experience of using it, 67% perceived themselves as likely to use one within 12 months. The majority of participants would use a health chatbot for seeking general health information (78%), booking a medical appointment (78%), and looking for local health services (80%). However, a health chatbot was perceived as less suitable for seeking results of medical tests and seeking specialist advice such as sexual health. The analysis of attitudinal variables showed that most participants reported their preference for discussing their health with doctors (73%) and having access to reliable and accurate health information (93%). While 80% were curious about new technologies that could improve their health, 66% reported only seeking a doctor when experiencing a health problem and 65% thought that a chatbot was a good idea. Interestingly, 30% reported dislike about talking to computers, 41% felt it would be strange to discuss health matters with a chatbot and about half were unsure if they could trust the advice given by a chatbot. Therefore, perceived trustworthiness, individual attitudes towards bots, and dislike for talking to computers are the main barriers to health chatbots.\\n\\nPolitics\\nSee also: Government by algorithm § AI politicians\\nIn New Zealand, the chatbot SAM – short for Semantic Analysis Machine[61] (made by Nick Gerritsen of Touchtech[62]) – has been developed. It is designed to share its political thoughts, for example on topics such as climate change, healthcare and education, etc. It talks to people through Facebook Messenger.[63][64][65][66]\\n\\nIn 2022, the chatbot \"Leader Lars\" or \"Leder Lars\" was nominated for The Synthetic Party to run in the Danish parliamentary election,[67] and was built by the artist collective Computer Lars.[68] Leader Lars differed from earlier virtual politicians by leading a political party and by not pretending to be an objective candidate.[69] This chatbot engaged in critical discussions on politics with users from around the world.[70]\\n\\nIn India, the state government has launched a chatbot for its Aaple Sarkar platform,[71] which provides conversational access to information regarding public services managed.[72][73]\\n\\nToys\\nChatbots have also been incorporated into devices not primarily meant for computing, such as toys.[74]\\n\\nHello Barbie is an Internet-connected version of the doll that uses a chatbot provided by the company ToyTalk,[75] which previously used the chatbot for a range of smartphone-based characters for children.[76] These characters\\' behaviors are constrained by a set of rules that in effect emulate a particular character and produce a storyline.[77]\\n\\nThe My Friend Cayla doll was marketed as a line of 18-inch (46 cm) dolls which uses speech recognition technology in conjunction with an Android or iOS mobile app to recognize the child\\'s speech and have a conversation. It, like the Hello Barbie doll, attracted controversy due to vulnerabilities with the doll\\'s Bluetooth stack and its use of data collected from the child\\'s speech.\\n\\nIBM\\'s Watson computer has been used as the basis for chatbot-based educational toys for companies such as CogniToys[74] intended to interact with children for educational purposes.[78]\\n\\nMalicious use\\nMalicious chatbots are frequently used to fill chat rooms with spam and advertisements, by mimicking human behavior and conversations or to entice people into revealing personal information, such as bank account numbers. They were commonly found on Yahoo! Messenger, Windows Live Messenger, AOL Instant Messenger and other instant messaging protocols. There has also been a published report of a chatbot used in a fake personal ad on a dating service\\'s website.[79]\\n\\nTay, an AI chatbot that learns from previous interaction, caused major controversy due to it being targeted by internet trolls on Twitter. The bot was exploited, and after 16 hours began to send extremely offensive Tweets to users. This suggests that although the bot learned effectively from experience, adequate protection was not put in place to prevent misuse.[80]\\n\\nIf a text-sending algorithm can pass itself off as a human instead of a chatbot, its message would be more credible. Therefore, human-seeming chatbots with well-crafted online identities could start scattering fake news that seems plausible, for instance making false claims during an election. With enough chatbots, it might be even possible to achieve artificial social proof.[81][82]\\n\\nLimitations of chatbots\\nThe creation and implementation of chatbots is still a developing area, heavily related to artificial intelligence and machine learning, so the provided solutions, while possessing obvious advantages, have some important limitations in terms of functionalities and use cases. However, this is changing over time.\\n\\nThe most common limitations are listed below:[83]\\n\\nAs the input/output database is fixed and limited, chatbots can fail while dealing with an unsaved query.[52]\\nA chatbot\\'s efficiency highly depends on language processing and is limited because of irregularities, such as accents and mistakes.\\nChatbots are unable to deal with multiple questions at the same time and so conversation opportunities are limited.[83]\\nChatbots require a large amount of conversational data to train. Generative models, which are based on deep learning algorithms to generate new responses word by word based on user input, are usually trained on a large dataset of natural-language phrases.[3]\\nChatbots have difficulty managing non-linear conversations that must go back and forth on a topic with a user.[84]\\nAs it happens usually with technology-led changes in existing services, some consumers, more often than not from older generations, are uncomfortable with chatbots due to their limited understanding, making it obvious that their requests are being dealt with by machines.[83]\\nChatbots and jobs\\nChatbots are increasingly present in businesses and often are used to automate tasks that do not require skill-based talents. With customer service taking place via messaging apps as well as phone calls, there are growing numbers of use-cases where chatbot deployment gives organizations a clear return on investment. Call center workers may be particularly at risk from AI-driven chatbots.[85]\\n\\nChatbot jobs\\n\\nChatbot developers create, debug, and maintain applications that automate customer services or other communication processes. Their duties include reviewing and simplifying code when needed. They may also help companies implement bots in their operations.\\n\\nA study by Forrester (June 2017) predicted that 25% of all jobs would be impacted by AI technologies by 2019.[86]'"
            ],
            "application/vnd.google.colaboratory.intrinsic+json": {
              "type": "string"
            }
          },
          "metadata": {},
          "execution_count": 7
        }
      ]
    },
    {
      "cell_type": "markdown",
      "source": [
        " **pre processing of the data **"
      ],
      "metadata": {
        "id": "ks4W63QUKr8j"
      }
    },
    {
      "cell_type": "code",
      "source": [
        "raw_doc = raw_doc.lower() # converting the entire text to lowercase\n",
        "nltk.download('punkt') #using the punkt tokenizer\n",
        "nltk.download('wordnet') #Using the wordnet dictionary\n",
        "nltk.download('omw-1.4')\n",
        "\n",
        "\n"
      ],
      "metadata": {
        "colab": {
          "base_uri": "https://localhost:8080/"
        },
        "id": "RT1TuavqKH5Q",
        "outputId": "6651d793-f2a7-4ae2-a251-1a125aa3fcd5"
      },
      "execution_count": 10,
      "outputs": [
        {
          "output_type": "stream",
          "name": "stderr",
          "text": [
            "[nltk_data] Downloading package punkt to /root/nltk_data...\n",
            "[nltk_data]   Package punkt is already up-to-date!\n",
            "[nltk_data] Downloading package wordnet to /root/nltk_data...\n",
            "[nltk_data]   Package wordnet is already up-to-date!\n",
            "[nltk_data] Downloading package omw-1.4 to /root/nltk_data...\n"
          ]
        },
        {
          "output_type": "execute_result",
          "data": {
            "text/plain": [
              "True"
            ]
          },
          "metadata": {},
          "execution_count": 10
        }
      ]
    },
    {
      "cell_type": "code",
      "source": [
        "raw_doc\n"
      ],
      "metadata": {
        "colab": {
          "base_uri": "https://localhost:8080/",
          "height": 140
        },
        "id": "jZ-7_lTvM00i",
        "outputId": "eb0bca4e-626b-4240-b645-f70cac4a9813"
      },
      "execution_count": 11,
      "outputs": [
        {
          "output_type": "execute_result",
          "data": {
            "text/plain": [
              "'a chatbot (originally chatterbot[1]) is a software application or web interface that aims to mimic human conversation through text or voice interactions.[2][3][4] modern chatbots are typically online and use artificial intelligence (ai) systems that are capable of maintaining a conversation with a user in natural language and simulating the way a human would behave as a conversational partner. such technologies often utilize aspects of deep learning and natural language processing, but more simplistic chatbots have been around for decades prior.\\n\\nrecently, this field has gained widespread attention due to the popularity of openai\\'s chatgpt (using gpt-3 or gpt-4),[5] released in 2022, followed by alternatives such as microsoft\\'s bing chat (which uses openai\\'s gpt-4) and google\\'s bard.[6] such examples reflect the recent practice of such products being built based upon broad foundational large language models that get fine-tuned so as to target specific tasks or applications (i.e. simulating human conversation, in the case of chatbots). chatbots can also be designed or customized to further target even more specific situations and/or particular subject-matter domains.[7]\\n\\na major area where chatbots have long been used is in customer service and support, such as with various sorts of virtual assistants.[8] companies spanning various industries have begun using the latest generative artificial intelligence technologies to power more advanced developments in such areas.[7]\\n\\nbackground\\nin 1950, alan turing\\'s famous article \"computing machinery and intelligence\" was published,[9] which proposed what is now called the turing test as a criterion of intelligence. this criterion depends on the ability of a computer program to impersonate a human in a real-time written conversation with a human judge to the extent that the judge is unable to distinguish reliably—on the basis of the conversational content alone—between the program and a real human. the notoriety of turing\\'s proposed test stimulated great interest in joseph weizenbaum\\'s program eliza, published in 1966, which seemed to be able to fool users into believing that they were conversing with a real human. however weizenbaum himself did not claim that eliza was genuinely intelligent, and the introduction to his paper presented it more as a debunking exercise:\\n\\nin artificial intelligence, machines are made to behave in wondrous ways, often sufficient to dazzle even the most experienced observer. but once a particular program is unmasked, once its inner workings are explained, its magic crumbles away; it stands revealed as a mere collection of procedures. the observer says to himself \"i could have written that\". with that thought, he moves the program in question from the shelf marked \"intelligent\", to that reserved for curios. the object of this paper is to cause just such a re-evaluation of the program about to be \"explained\". few programs ever needed it more.[10]\\n\\neliza\\'s key method of operation (copied by chatbot designers ever since) involves the recognition of clue words or phrases in the input, and the output of the corresponding pre-prepared or pre-programmed responses that can move the conversation forward in an apparently meaningful way (e.g. by responding to any input that contains the word \\'mother\\' with \\'tell me more about your family\\').[10] thus an illusion of understanding is generated, even though the processing involved has been merely superficial. eliza showed that such an illusion is surprisingly easy to generate because human judges are so ready to give the benefit of the doubt when conversational responses are capable of being interpreted as \"intelligent\".\\n\\ninterface designers have come to appreciate that humans\\' readiness to interpret computer output as genuinely conversational—even when it is actually based on rather simple pattern-matching—can be exploited for useful purposes. most people prefer to engage with programs that are human-like, and this gives chatbot-style techniques a potentially useful role in interactive systems that need to elicit information from users, as long as that information is relatively straightforward and falls into predictable categories. thus, for example, online help systems can usefully employ chatbot techniques to identify the area of help that users require, potentially providing a \"friendlier\" interface than a more formal search or menu system. this sort of usage holds the prospect of moving chatbot technology from weizenbaum\\'s \"shelf ... reserved for curios\" to that marked \"genuinely useful computational methods\".\\n\\ndevelopment\\namong the most notable early chatbots are eliza (1966) and parry (1972).[11][12][13][14] more recent notable programs include a.l.i.c.e., jabberwacky and d.u.d.e (agence nationale de la recherche and cnrs 2006). while eliza and parry were used exclusively to simulate typed conversation, many chatbots now include other functional features, such as games and web searching abilities. in 1984, a book called the policeman\\'s beard is half constructed was published, allegedly written by the chatbot racter (though the program as released would not have been capable of doing so).[15]\\n\\nfrom 1978[16] to some time after 1983,[17] the cyrus project led by janet kolodner constructed a chatbot simulating cyrus vance (57th united states secretary of state). it used case-based reasoning, and updated its database daily by parsing wire news from united press international. the program was unable to process the news items subsequent to the surprise resignation of cyrus vance in april 1980, and the team constructed another chatbot simulating his successor, edmund muskie.[18][17]\\n\\none pertinent field of ai research is natural-language processing. usually, weak ai fields employ specialized software or programming languages created specifically for the narrow function required. for example, a.l.i.c.e. uses a markup language called aiml,[3] which is specific to its function as a conversational agent, and has since been adopted by various other developers of, so-called, alicebots. nevertheless, a.l.i.c.e. is still purely based on pattern matching techniques without any reasoning capabilities, the same technique eliza was using back in 1966. this is not strong ai, which would require sapience and logical reasoning abilities.\\n\\njabberwacky learns new responses and context based on real-time user interactions, rather than being driven from a static database. some more recent chatbots also combine real-time learning with evolutionary algorithms that optimize their ability to communicate based on each conversation held. still, there is currently no general purpose conversational artificial intelligence, and some software developers focus on the practical aspect, information retrieval.\\n\\nchatbot competitions focus on the turing test or more specific goals. two such annual contests are the loebner prize and the chatterbox challenge (the latter has been offline since 2015, however, materials can still be found from web archives).[19]\\n\\nchatbots may use neural networks as a language model. for example, generative pre-trained transformers (gpt), which use the transformer architecture, have become common to build sophisticated chatbots. the \"pre-training\" in its name refers to the initial training process on a large text corpus, which provides a solid foundation for the model to perform well on downstream tasks with limited amounts of task-specific data. an example of a gpt chatbot is chatgpt.[20] despite criticism of its accuracy, chatgpt has gained attention for its detailed responses and historical knowledge. another example is biogpt, developed by microsoft, which focuses on answering biomedical questions.[21][22]\\n\\ndbpedia created a chatbot during the gsoc of 2017.[23][24][25] it can communicate through facebook messenger.\\n\\napplication\\nsee also: virtual assistant\\nmessaging apps\\nmany companies\\' chatbots run on messaging apps or simply via sms. they are used for b2c customer service, sales and marketing.[26]\\n\\nin 2016, facebook messenger allowed developers to place chatbots on their platform. there were 30,000 bots created for messenger in the first six months, rising to 100,000 by september 2017.[27]\\n\\nsince september 2017, this has also been as part of a pilot program on whatsapp. airlines klm and aeroméxico both announced their participation in the testing;[28][29][30][31] both airlines had previously launched customer services on the facebook messenger platform.\\n\\nthe bots usually appear as one of the user\\'s contacts, but can sometimes act as participants in a group chat.\\n\\nmany banks, insurers, media companies, e-commerce companies, airlines, hotel chains, retailers, health care providers, government entities and restaurant chains have used chatbots to answer simple questions, increase customer engagement,[32] for promotion, and to offer additional ways to order from them.[33]\\n\\na 2017 study showed 4% of companies used chatbots.[34] according to a 2016 study, 80% of businesses said they intended to have one by 2020.[35]\\n\\nas part of company apps and websites\\nprevious generations of chatbots were present on company websites, e.g. ask jenn from alaska airlines which debuted in 2008[36] or expedia\\'s virtual customer service agent which launched in 2011.[36][37] the newer generation of chatbots includes ibm watson-powered \"rocky\", introduced in february 2017 by the new york city-based e-commerce company rare carat to provide information to prospective diamond buyers.[38][39]\\n\\nchatbot sequences\\nused by marketers to script sequences of messages, very similar to an autoresponder sequence. such sequences can be triggered by user opt-in or the use of keywords within user interactions. after a trigger occurs a sequence of messages is delivered until the next anticipated user response. each user response is used in the decision tree to help the chatbot navigate the response sequences to deliver the correct response message.\\n\\ncompany internal platforms\\nother companies explore ways they can use chatbots internally, for example for customer support, human resources, or even in internet-of-things (iot) projects. overstock.com, for one, has reportedly launched a chatbot named mila to automate certain simple yet time-consuming processes when requesting sick leave.[40] other large companies such as lloyds banking group, royal bank of scotland, renault and citroën are now using automated online assistants instead of call centres with humans to provide a first point of contact. a saas chatbot business ecosystem has been steadily growing since the f8 conference when facebook\\'s mark zuckerberg unveiled that messenger would allow chatbots into the app.[41] in large companies, like in hospitals and aviation organizations, it architects are designing reference architectures for intelligent chatbots that are used to unlock and share knowledge and experience in the organization more efficiently, and reduce the errors in answers from expert service desks significantly.[42] these intelligent chatbots make use of all kinds of artificial intelligence like image moderation and natural-language understanding (nlu), natural-language generation (nlg), machine learning and deep learning.\\n\\ncustomer service\\nmany high-tech banking organizations are looking to integrate automated ai-based solutions such as chatbots into their customer service in order to provide faster and cheaper assistance to their clients who are becoming increasingly comfortable with technology. in particular, chatbots can efficiently conduct a dialogue, usually replacing other communication tools such as email, phone, or sms. in banking, their major application is related to quick customer service answering common requests, as well as transactional support.\\n\\nseveral studies report significant reduction in the cost of customer services, expected to lead to billions of dollars of economic savings in the next ten years.[43] in 2019, gartner predicted that by 2021, 15% of all customer service interactions globally will be handled completely by ai.[44] a study by juniper research in 2019 estimates retail sales resulting from chatbot-based interactions will reach $112 billion by 2023.[45]\\n\\nsince 2016, when facebook allowed businesses to deliver automated customer support, e-commerce guidance, content, and interactive experiences through chatbots, a large variety of chatbots were developed for the facebook messenger platform.[46]\\n\\nin 2016, russia-based tochka bank launched the world\\'s first facebook bot for a range of financial services, including a possibility of making payments.[47]\\n\\nin july 2016, barclays africa also launched a facebook chatbot, making it the first bank to do so in africa.[48]\\n\\nthe france\\'s third-largest bank by total assets[49] société générale launched their chatbot called sobot in march 2018. while 80% of users of the sobot expressed their satisfaction after having tested it, société générale deputy director bertrand cozzarolo stated that it will never replace the expertise provided by a human advisor. [50]\\n\\nthe advantages of using chatbots for customer interactions in banking include cost reduction, financial advice, and 24/7 support.[51][52]\\n\\nhealthcare\\nsee also: artificial intelligence in healthcare\\nchatbots are also appearing in the healthcare industry.[53][54] a study suggested that physicians in the united states believed that chatbots would be most beneficial for scheduling doctor appointments, locating health clinics, or providing medication information.[55]\\n\\nwhatsapp has teamed up with the world health organisation (who) to make a chatbot service that answers users\\' questions on covid-19.[56]\\n\\nin 2020, the indian government launched a chatbot called mygov corona helpdesk,[57] that worked through whatsapp and helped people access information about the coronavirus (covid-19) pandemic.[58][59]\\n\\ncertain patient groups are still reluctant to use chatbots. a mixed-methods study showed that people are still hesitant to use chatbots for their healthcare due to poor understanding of the technological complexity, the lack of empathy, and concerns about cyber-security.[60] the analysis showed that while 6% had heard of a health chatbot and 3% had experience of using it, 67% perceived themselves as likely to use one within 12 months. the majority of participants would use a health chatbot for seeking general health information (78%), booking a medical appointment (78%), and looking for local health services (80%). however, a health chatbot was perceived as less suitable for seeking results of medical tests and seeking specialist advice such as sexual health. the analysis of attitudinal variables showed that most participants reported their preference for discussing their health with doctors (73%) and having access to reliable and accurate health information (93%). while 80% were curious about new technologies that could improve their health, 66% reported only seeking a doctor when experiencing a health problem and 65% thought that a chatbot was a good idea. interestingly, 30% reported dislike about talking to computers, 41% felt it would be strange to discuss health matters with a chatbot and about half were unsure if they could trust the advice given by a chatbot. therefore, perceived trustworthiness, individual attitudes towards bots, and dislike for talking to computers are the main barriers to health chatbots.\\n\\npolitics\\nsee also: government by algorithm § ai politicians\\nin new zealand, the chatbot sam – short for semantic analysis machine[61] (made by nick gerritsen of touchtech[62]) – has been developed. it is designed to share its political thoughts, for example on topics such as climate change, healthcare and education, etc. it talks to people through facebook messenger.[63][64][65][66]\\n\\nin 2022, the chatbot \"leader lars\" or \"leder lars\" was nominated for the synthetic party to run in the danish parliamentary election,[67] and was built by the artist collective computer lars.[68] leader lars differed from earlier virtual politicians by leading a political party and by not pretending to be an objective candidate.[69] this chatbot engaged in critical discussions on politics with users from around the world.[70]\\n\\nin india, the state government has launched a chatbot for its aaple sarkar platform,[71] which provides conversational access to information regarding public services managed.[72][73]\\n\\ntoys\\nchatbots have also been incorporated into devices not primarily meant for computing, such as toys.[74]\\n\\nhello barbie is an internet-connected version of the doll that uses a chatbot provided by the company toytalk,[75] which previously used the chatbot for a range of smartphone-based characters for children.[76] these characters\\' behaviors are constrained by a set of rules that in effect emulate a particular character and produce a storyline.[77]\\n\\nthe my friend cayla doll was marketed as a line of 18-inch (46 cm) dolls which uses speech recognition technology in conjunction with an android or ios mobile app to recognize the child\\'s speech and have a conversation. it, like the hello barbie doll, attracted controversy due to vulnerabilities with the doll\\'s bluetooth stack and its use of data collected from the child\\'s speech.\\n\\nibm\\'s watson computer has been used as the basis for chatbot-based educational toys for companies such as cognitoys[74] intended to interact with children for educational purposes.[78]\\n\\nmalicious use\\nmalicious chatbots are frequently used to fill chat rooms with spam and advertisements, by mimicking human behavior and conversations or to entice people into revealing personal information, such as bank account numbers. they were commonly found on yahoo! messenger, windows live messenger, aol instant messenger and other instant messaging protocols. there has also been a published report of a chatbot used in a fake personal ad on a dating service\\'s website.[79]\\n\\ntay, an ai chatbot that learns from previous interaction, caused major controversy due to it being targeted by internet trolls on twitter. the bot was exploited, and after 16 hours began to send extremely offensive tweets to users. this suggests that although the bot learned effectively from experience, adequate protection was not put in place to prevent misuse.[80]\\n\\nif a text-sending algorithm can pass itself off as a human instead of a chatbot, its message would be more credible. therefore, human-seeming chatbots with well-crafted online identities could start scattering fake news that seems plausible, for instance making false claims during an election. with enough chatbots, it might be even possible to achieve artificial social proof.[81][82]\\n\\nlimitations of chatbots\\nthe creation and implementation of chatbots is still a developing area, heavily related to artificial intelligence and machine learning, so the provided solutions, while possessing obvious advantages, have some important limitations in terms of functionalities and use cases. however, this is changing over time.\\n\\nthe most common limitations are listed below:[83]\\n\\nas the input/output database is fixed and limited, chatbots can fail while dealing with an unsaved query.[52]\\na chatbot\\'s efficiency highly depends on language processing and is limited because of irregularities, such as accents and mistakes.\\nchatbots are unable to deal with multiple questions at the same time and so conversation opportunities are limited.[83]\\nchatbots require a large amount of conversational data to train. generative models, which are based on deep learning algorithms to generate new responses word by word based on user input, are usually trained on a large dataset of natural-language phrases.[3]\\nchatbots have difficulty managing non-linear conversations that must go back and forth on a topic with a user.[84]\\nas it happens usually with technology-led changes in existing services, some consumers, more often than not from older generations, are uncomfortable with chatbots due to their limited understanding, making it obvious that their requests are being dealt with by machines.[83]\\nchatbots and jobs\\nchatbots are increasingly present in businesses and often are used to automate tasks that do not require skill-based talents. with customer service taking place via messaging apps as well as phone calls, there are growing numbers of use-cases where chatbot deployment gives organizations a clear return on investment. call center workers may be particularly at risk from ai-driven chatbots.[85]\\n\\nchatbot jobs\\n\\nchatbot developers create, debug, and maintain applications that automate customer services or other communication processes. their duties include reviewing and simplifying code when needed. they may also help companies implement bots in their operations.\\n\\na study by forrester (june 2017) predicted that 25% of all jobs would be impacted by ai technologies by 2019.[86]'"
            ],
            "application/vnd.google.colaboratory.intrinsic+json": {
              "type": "string"
            }
          },
          "metadata": {},
          "execution_count": 11
        }
      ]
    },
    {
      "cell_type": "code",
      "source": [
        "sentence_tokens = nltk.sent_tokenize(raw_doc)\n",
        "word_tokens = nltk.word_tokenize(raw_doc)"
      ],
      "metadata": {
        "id": "bET5Z8jmNQ61"
      },
      "execution_count": 13,
      "outputs": []
    },
    {
      "cell_type": "markdown",
      "source": [
        "**After tokenization**\n"
      ],
      "metadata": {
        "id": "-MNWK_AROhTJ"
      }
    },
    {
      "cell_type": "code",
      "source": [
        "sentence_tokens[:5]"
      ],
      "metadata": {
        "colab": {
          "base_uri": "https://localhost:8080/"
        },
        "id": "QJM-pgjcNlik",
        "outputId": "a4ce4ffa-b12b-49ae-be23-086ebb0ecba1"
      },
      "execution_count": 14,
      "outputs": [
        {
          "output_type": "execute_result",
          "data": {
            "text/plain": [
              "['a chatbot (originally chatterbot[1]) is a software application or web interface that aims to mimic human conversation through text or voice interactions.',\n",
              " '[2][3][4] modern chatbots are typically online and use artificial intelligence (ai) systems that are capable of maintaining a conversation with a user in natural language and simulating the way a human would behave as a conversational partner.',\n",
              " 'such technologies often utilize aspects of deep learning and natural language processing, but more simplistic chatbots have been around for decades prior.',\n",
              " \"recently, this field has gained widespread attention due to the popularity of openai's chatgpt (using gpt-3 or gpt-4),[5] released in 2022, followed by alternatives such as microsoft's bing chat (which uses openai's gpt-4) and google's bard.\",\n",
              " '[6] such examples reflect the recent practice of such products being built based upon broad foundational large language models that get fine-tuned so as to target specific tasks or applications (i.e.']"
            ]
          },
          "metadata": {},
          "execution_count": 14
        }
      ]
    },
    {
      "cell_type": "code",
      "source": [
        "word_tokens[:5]\n"
      ],
      "metadata": {
        "colab": {
          "base_uri": "https://localhost:8080/"
        },
        "id": "JQP3DBZkOxXe",
        "outputId": "c3ca27e7-f3ce-4486-a341-3ce22a43a68f"
      },
      "execution_count": 15,
      "outputs": [
        {
          "output_type": "execute_result",
          "data": {
            "text/plain": [
              "['a', 'chatbot', '(', 'originally', 'chatterbot']"
            ]
          },
          "metadata": {},
          "execution_count": 15
        }
      ]
    },
    {
      "cell_type": "markdown",
      "source": [
        "**performing the text pre processing steps**\n"
      ],
      "metadata": {
        "id": "kqesKUhiPKjJ"
      }
    },
    {
      "cell_type": "code",
      "source": [
        "lemmer = nltk.stem.WordNetLemmatizer()\n",
        "def LemTokens(tokens):\n",
        "  return [lemmer.lemmatize(token)for token in tokens]\n",
        "remove_punc_dict = dict((ord(punct),None) for punct in string.punctuation)\n",
        "def LemNormalize(text):\n",
        " return LemTokens(nltk.word_tokenize(text.lower().translate(remove_punc_dict)))"
      ],
      "metadata": {
        "id": "RncXN2nmPC_1"
      },
      "execution_count": 17,
      "outputs": []
    },
    {
      "cell_type": "markdown",
      "source": [
        "**Define Greetings Function**\n"
      ],
      "metadata": {
        "id": "jgO04G2BRjo-"
      }
    },
    {
      "cell_type": "code",
      "source": [
        "greet_inputs = ('hello', 'hi', 'how are you?')\n",
        "greet_response = ('hi','hey','hey there!')\n",
        "def greet(sentence):\n",
        "  for word in sentence.split():\n",
        "    if word.lower() in greet_inputs:\n",
        "      return random.choice(greet_response)"
      ],
      "metadata": {
        "id": "CrBkAdz8RVty"
      },
      "execution_count": 20,
      "outputs": []
    },
    {
      "cell_type": "markdown",
      "source": [
        "**Response Generation by the bot**"
      ],
      "metadata": {
        "id": "ztmxoyVWTCdd"
      }
    },
    {
      "cell_type": "code",
      "source": [
        "from sklearn.feature_extraction.text import TfidfVectorizer\n",
        "from sklearn.metrics.pairwise import cosine_similarity"
      ],
      "metadata": {
        "id": "6QdFBCspTIEH"
      },
      "execution_count": 21,
      "outputs": []
    },
    {
      "cell_type": "code",
      "source": [
        "\n",
        "def response(user_response):\n",
        "    robo1_response = ''\n",
        "    TfidfVec = TfidfVectorizer(tokenizer=LemNormalize, stop_words='english')\n",
        "    tfidf = TfidfVec.fit_transform(sentence_tokens)\n",
        "    vals = cosine_similarity(tfidf[-1], tfidf)\n",
        "    idx = vals.argsort()[0][-2]\n",
        "    flat = vals.flatten()\n",
        "    flat.sort()\n",
        "    req_tfidf = flat[-2]\n",
        "    if req_tfidf == 0:\n",
        "        robo1_response = robo1_response + \"I am sorry. Unable to understand you!\"\n",
        "        return robo1_response\n",
        "    else:\n",
        "        robo1_response = robo1_response + sentence_tokens[idx]\n",
        "        return robo1_response\n"
      ],
      "metadata": {
        "id": "bzU7amFETlkd"
      },
      "execution_count": 22,
      "outputs": []
    },
    {
      "cell_type": "code",
      "source": [
        "flag = True\n",
        "print('Hello! I am the Learning Bot. Start typing your text after greeting to talk to me. For ending the conversation, type bye!')\n",
        "while (flag == True):\n",
        "    user_response = input()\n",
        "    user_response = user_response.lower()\n",
        "    if user_response != 'bye':\n",
        "        if user_response == 'thank you' or user_response == 'thanks':\n",
        "            flag = False\n",
        "            print('Bot: You are welcome..')\n",
        "        else:\n",
        "            if greet(user_response) is not None:\n",
        "                print('Bot: ' + greet(user_response))\n",
        "            else:\n",
        "                sentence_tokens.append(user_response)\n",
        "                word_tokens = word_tokens + nltk.word_tokenize(user_response)\n",
        "                final_words = list(set(word_tokens))\n",
        "                print('Bot: ', end='')\n",
        "                print(response(user_response))\n",
        "                sentence_tokens.remove(user_response)\n",
        "    else:\n",
        "        flag = False\n",
        "        print('Bot: Goodbye!')"
      ],
      "metadata": {
        "colab": {
          "base_uri": "https://localhost:8080/"
        },
        "id": "e9yJRCb6Z9mh",
        "outputId": "7212a910-9ee6-4efe-b0b2-09dae9812dd4"
      },
      "execution_count": 24,
      "outputs": [
        {
          "output_type": "stream",
          "name": "stdout",
          "text": [
            "Hello! I am the Learning Bot. Start typing your text after greeting to talk to me. For ending the conversation, type bye!\n",
            "hi \n",
            "Bot: hey there!\n",
            "can you tell me about turing test\n",
            "Bot: chatbot competitions focus on the turing test or more specific goals.\n",
            "what is artificial intelligence\n",
            "Bot: still, there is currently no general purpose conversational artificial intelligence, and some software developers focus on the practical aspect, information retrieval.\n",
            "what is machine learning\n",
            "Bot: [42] these intelligent chatbots make use of all kinds of artificial intelligence like image moderation and natural-language understanding (nlu), natural-language generation (nlg), machine learning and deep learning.\n",
            "how chat bot is helpful\n",
            "Bot: the bots usually appear as one of the user's contacts, but can sometimes act as participants in a group chat.\n",
            "what is chat gpt\n",
            "Bot: an example of a gpt chatbot is chatgpt.\n",
            "any another example\n",
            "Bot: for example, a.l.i.c.e.\n",
            "barbie\n",
            "Bot: [74]\n",
            "\n",
            "hello barbie is an internet-connected version of the doll that uses a chatbot provided by the company toytalk,[75] which previously used the chatbot for a range of smartphone-based characters for children.\n",
            "soo bye\n",
            "Bot: I am sorry. Unable to understand you!\n",
            "thank you\n",
            "Bot: You are welcome..\n"
          ]
        }
      ]
    },
    {
      "cell_type": "code",
      "source": [],
      "metadata": {
        "id": "DnZtyjCRccrG"
      },
      "execution_count": null,
      "outputs": []
    }
  ]
}